{
 "cells": [
  {
   "cell_type": "code",
   "execution_count": 33,
   "id": "91169ca7",
   "metadata": {},
   "outputs": [],
   "source": [
    "from pyspark.sql import SparkSession\n",
    "import getpass\n",
    "username = getpass.getuser()\n",
    "spark = SparkSession. \\\n",
    "builder. \\\n",
    "config('spark.ui.port', '0'). \\\n",
    "config('spark.shuffle.useOldFetchProtocol', 'true'). \\\n",
    "config(\"spark.sql.warehouse.dir\", f\"/user/{username}/warehouse\"). \\\n",
    "enableHiveSupport(). \\\n",
    "master('yarn'). \\\n",
    "getOrCreate()"
   ]
  },
  {
   "cell_type": "code",
   "execution_count": 34,
   "id": "41a4c4db",
   "metadata": {},
   "outputs": [],
   "source": [
    "df=spark.read \\\n",
    ".format(\"csv\") \\\n",
    ".option(\"inferSchema\",True) \\\n",
    ".option(\"header\",\"true\") \\\n",
    ".load(\"/user/itv011656/project/US_births_2000-2014_SSA.csv\")"
   ]
  },
  {
   "cell_type": "code",
   "execution_count": 3,
   "id": "4936ff13",
   "metadata": {},
   "outputs": [
    {
     "data": {
      "text/html": [
       "<table border='1'>\n",
       "<tr><th>year</th><th>month</th><th>date_of_month</th><th>day_of_week</th><th>births</th></tr>\n",
       "<tr><td>2000</td><td>1</td><td>1</td><td>6</td><td>9083</td></tr>\n",
       "<tr><td>2000</td><td>1</td><td>2</td><td>7</td><td>8006</td></tr>\n",
       "<tr><td>2000</td><td>1</td><td>3</td><td>1</td><td>11363</td></tr>\n",
       "<tr><td>2000</td><td>1</td><td>4</td><td>2</td><td>13032</td></tr>\n",
       "<tr><td>2000</td><td>1</td><td>5</td><td>3</td><td>12558</td></tr>\n",
       "<tr><td>2000</td><td>1</td><td>6</td><td>4</td><td>12466</td></tr>\n",
       "<tr><td>2000</td><td>1</td><td>7</td><td>5</td><td>12516</td></tr>\n",
       "<tr><td>2000</td><td>1</td><td>8</td><td>6</td><td>8934</td></tr>\n",
       "<tr><td>2000</td><td>1</td><td>9</td><td>7</td><td>7949</td></tr>\n",
       "<tr><td>2000</td><td>1</td><td>10</td><td>1</td><td>11668</td></tr>\n",
       "<tr><td>2000</td><td>1</td><td>11</td><td>2</td><td>12611</td></tr>\n",
       "<tr><td>2000</td><td>1</td><td>12</td><td>3</td><td>12398</td></tr>\n",
       "<tr><td>2000</td><td>1</td><td>13</td><td>4</td><td>11815</td></tr>\n",
       "<tr><td>2000</td><td>1</td><td>14</td><td>5</td><td>12180</td></tr>\n",
       "<tr><td>2000</td><td>1</td><td>15</td><td>6</td><td>8525</td></tr>\n",
       "<tr><td>2000</td><td>1</td><td>16</td><td>7</td><td>7657</td></tr>\n",
       "<tr><td>2000</td><td>1</td><td>17</td><td>1</td><td>10824</td></tr>\n",
       "<tr><td>2000</td><td>1</td><td>18</td><td>2</td><td>12350</td></tr>\n",
       "<tr><td>2000</td><td>1</td><td>19</td><td>3</td><td>12405</td></tr>\n",
       "<tr><td>2000</td><td>1</td><td>20</td><td>4</td><td>12506</td></tr>\n",
       "</table>\n",
       "only showing top 20 rows\n"
      ],
      "text/plain": [
       "+----+-----+-------------+-----------+------+\n",
       "|year|month|date_of_month|day_of_week|births|\n",
       "+----+-----+-------------+-----------+------+\n",
       "|2000|    1|            1|          6|  9083|\n",
       "|2000|    1|            2|          7|  8006|\n",
       "|2000|    1|            3|          1| 11363|\n",
       "|2000|    1|            4|          2| 13032|\n",
       "|2000|    1|            5|          3| 12558|\n",
       "|2000|    1|            6|          4| 12466|\n",
       "|2000|    1|            7|          5| 12516|\n",
       "|2000|    1|            8|          6|  8934|\n",
       "|2000|    1|            9|          7|  7949|\n",
       "|2000|    1|           10|          1| 11668|\n",
       "|2000|    1|           11|          2| 12611|\n",
       "|2000|    1|           12|          3| 12398|\n",
       "|2000|    1|           13|          4| 11815|\n",
       "|2000|    1|           14|          5| 12180|\n",
       "|2000|    1|           15|          6|  8525|\n",
       "|2000|    1|           16|          7|  7657|\n",
       "|2000|    1|           17|          1| 10824|\n",
       "|2000|    1|           18|          2| 12350|\n",
       "|2000|    1|           19|          3| 12405|\n",
       "|2000|    1|           20|          4| 12506|\n",
       "+----+-----+-------------+-----------+------+\n",
       "only showing top 20 rows"
      ]
     },
     "metadata": {},
     "output_type": "display_data"
    }
   ],
   "source": [
    "display(df)"
   ]
  },
  {
   "cell_type": "code",
   "execution_count": 8,
   "id": "a3ed3a95",
   "metadata": {},
   "outputs": [
    {
     "name": "stdout",
     "output_type": "stream",
     "text": [
      "+----+-----+-------------+-----------+------+-------------+\n",
      "|year|month|date_of_month|day_of_week|births|sum of births|\n",
      "+----+-----+-------------+-----------+------+-------------+\n",
      "|2003|    1|            1|          3|  7908|      4163060|\n",
      "|2003|    1|            2|          4| 11124|      4163060|\n",
      "|2003|    1|            3|          5| 12252|      4163060|\n",
      "|2003|    1|            4|          6|  8519|      4163060|\n",
      "|2003|    1|            5|          7|  7495|      4163060|\n",
      "|2003|    1|            6|          1| 11364|      4163060|\n",
      "|2003|    1|            7|          2| 12657|      4163060|\n",
      "|2003|    1|            8|          3| 12167|      4163060|\n",
      "|2003|    1|            9|          4| 12081|      4163060|\n",
      "|2003|    1|           10|          5| 12517|      4163060|\n",
      "|2003|    1|           11|          6|  8471|      4163060|\n",
      "|2003|    1|           12|          7|  7297|      4163060|\n",
      "|2003|    1|           13|          1| 11197|      4163060|\n",
      "|2003|    1|           14|          2| 12918|      4163060|\n",
      "|2003|    1|           15|          3| 12140|      4163060|\n",
      "|2003|    1|           16|          4| 12136|      4163060|\n",
      "|2003|    1|           17|          5| 12110|      4163060|\n",
      "|2003|    1|           18|          6|  8431|      4163060|\n",
      "|2003|    1|           19|          7|  7498|      4163060|\n",
      "|2003|    1|           20|          1| 11045|      4163060|\n",
      "+----+-----+-------------+-----------+------+-------------+\n",
      "only showing top 20 rows\n",
      "\n"
     ]
    }
   ],
   "source": [
    "df.withColumn(\"sum of births\", sum(\"births\").over(window_spec)).show()"
   ]
  },
  {
   "cell_type": "markdown",
   "id": "5228d574",
   "metadata": {},
   "source": [
    "# Total birth on day 6 of every week"
   ]
  },
  {
   "cell_type": "code",
   "execution_count": 35,
   "id": "71e879b4",
   "metadata": {},
   "outputs": [],
   "source": [
    "new_df=df.filter(\"day_of_week=6\").groupBy(\"year\",\"day_of_week\").agg(sum(\"births\")).orderBy(desc(\"year\"))"
   ]
  },
  {
   "cell_type": "code",
   "execution_count": 36,
   "id": "e7511fdc",
   "metadata": {},
   "outputs": [
    {
     "name": "stdout",
     "output_type": "stream",
     "text": [
      "+----+-----------+-----------+\n",
      "|year|day_of_week|sum(births)|\n",
      "+----+-----------+-----------+\n",
      "|2014|          6|     434881|\n",
      "|2013|          6|     426992|\n",
      "|2012|          6|     426211|\n",
      "|2011|          6|     428497|\n",
      "|2010|          6|     420764|\n",
      "|2009|          6|     437040|\n",
      "|2008|          6|     453269|\n",
      "|2007|          6|     464142|\n",
      "|2006|          6|     460500|\n",
      "|2005|          6|     454600|\n",
      "|2004|          6|     448659|\n",
      "|2003|          6|     453943|\n",
      "|2002|          6|     452840|\n",
      "|2001|          6|     462516|\n",
      "|2000|          6|     479641|\n",
      "+----+-----------+-----------+\n",
      "\n"
     ]
    }
   ],
   "source": [
    "new_df.show()"
   ]
  },
  {
   "cell_type": "code",
   "execution_count": 7,
   "id": "af2f93f6",
   "metadata": {},
   "outputs": [],
   "source": [
    "window_spec=Window.partitionBy(\"year\").orderBy(\"year\")"
   ]
  },
  {
   "cell_type": "code",
   "execution_count": 37,
   "id": "4a64f0e7",
   "metadata": {},
   "outputs": [],
   "source": [
    "from pyspark.sql.functions import *\n",
    "from pyspark.sql import *"
   ]
  },
  {
   "cell_type": "code",
   "execution_count": 32,
   "id": "3af42d7b",
   "metadata": {},
   "outputs": [],
   "source": [
    "spark.stop()"
   ]
  },
  {
   "cell_type": "markdown",
   "id": "0f9343e9",
   "metadata": {},
   "source": [
    "# Checking null values for births, day_of_week,month"
   ]
  },
  {
   "cell_type": "code",
   "execution_count": 11,
   "id": "875f3f2b",
   "metadata": {},
   "outputs": [],
   "source": [
    "null_check_result = df.filter(df.day_of_week.isNull()).count()"
   ]
  },
  {
   "cell_type": "code",
   "execution_count": null,
   "id": "46a2ad43",
   "metadata": {},
   "outputs": [],
   "source": [
    "null_check_result = df.filter(df.births.isNull()).count()"
   ]
  },
  {
   "cell_type": "code",
   "execution_count": 45,
   "id": "f31edd47",
   "metadata": {},
   "outputs": [],
   "source": [
    "null_check_result = df.filter(df.month.isNull()).count()"
   ]
  },
  {
   "cell_type": "code",
   "execution_count": 46,
   "id": "3ea235d5",
   "metadata": {},
   "outputs": [
    {
     "data": {
      "text/plain": [
       "0"
      ]
     },
     "metadata": {},
     "output_type": "display_data"
    }
   ],
   "source": [
    "display(null_check_result)"
   ]
  },
  {
   "cell_type": "markdown",
   "id": "0bd74dd1",
   "metadata": {},
   "source": [
    "# max and min births on each day. "
   ]
  },
  {
   "cell_type": "code",
   "execution_count": 13,
   "id": "701b6488",
   "metadata": {},
   "outputs": [
    {
     "name": "stdout",
     "output_type": "stream",
     "text": [
      "+----+-----------+-----------+-----------+\n",
      "|year|day_of_week|max(births)|min(births)|\n",
      "+----+-----------+-----------+-----------+\n",
      "|2000|          2|      13991|       9550|\n",
      "|2000|          5|      13658|       9805|\n",
      "|2000|          7|       8683|       6971|\n",
      "|2000|          4|      13900|       8144|\n",
      "|2000|          1|      12974|       6719|\n",
      "|2000|          3|      13917|      12077|\n",
      "|2000|          6|       9860|       8367|\n",
      "|2001|          2|      14063|       6603|\n",
      "|2001|          5|      14235|       9594|\n",
      "|2001|          4|      14151|       7513|\n",
      "|2001|          3|      14055|       9608|\n",
      "|2001|          6|       9662|       8100|\n",
      "|2001|          1|      12709|       7626|\n",
      "|2001|          7|       8495|       7212|\n",
      "|2002|          7|       8433|       7083|\n",
      "|2002|          3|      13969|       6774|\n",
      "|2002|          6|       9613|       8159|\n",
      "|2002|          5|      14015|       9341|\n",
      "|2002|          4|      14247|       7392|\n",
      "|2002|          2|      14241|       7927|\n",
      "+----+-----------+-----------+-----------+\n",
      "only showing top 20 rows\n",
      "\n"
     ]
    }
   ],
   "source": [
    "df.groupBy(\"year\",\"day_of_week\").agg(max(\"births\"),min(\"births\")).orderBy(\"year\").show()"
   ]
  },
  {
   "cell_type": "code",
   "execution_count": 14,
   "id": "de82fa3e",
   "metadata": {},
   "outputs": [
    {
     "data": {
      "text/html": [
       "<table border='1'>\n",
       "<tr><th></th></tr>\n",
       "</table>\n"
      ],
      "text/plain": [
       "++\n",
       "||\n",
       "++\n",
       "++"
      ]
     },
     "execution_count": 14,
     "metadata": {},
     "output_type": "execute_result"
    }
   ],
   "source": [
    "spark.sql(\"create database if not exists usbirthdata\")"
   ]
  },
  {
   "cell_type": "code",
   "execution_count": 39,
   "id": "7f376aff",
   "metadata": {},
   "outputs": [
    {
     "data": {
      "text/html": [
       "<table border='1'>\n",
       "<tr><th></th></tr>\n",
       "</table>\n"
      ],
      "text/plain": [
       "++\n",
       "||\n",
       "++\n",
       "++"
      ]
     },
     "execution_count": 39,
     "metadata": {},
     "output_type": "execute_result"
    }
   ],
   "source": [
    "spark.sql(\"USE usbirthdata\")"
   ]
  },
  {
   "cell_type": "code",
   "execution_count": 41,
   "id": "2c21701f",
   "metadata": {},
   "outputs": [],
   "source": [
    "df.createOrReplaceTempView(\"us_birth_details\")"
   ]
  },
  {
   "cell_type": "code",
   "execution_count": 42,
   "id": "5d0d7d0d",
   "metadata": {},
   "outputs": [
    {
     "data": {
      "text/html": [
       "<table border='1'>\n",
       "<tr><th>database</th><th>tableName</th><th>isTemporary</th></tr>\n",
       "<tr><td></td><td>us_birth_details</td><td>true</td></tr>\n",
       "</table>\n"
      ],
      "text/plain": [
       "+--------+----------------+-----------+\n",
       "|database|       tableName|isTemporary|\n",
       "+--------+----------------+-----------+\n",
       "|        |us_birth_details|       true|\n",
       "+--------+----------------+-----------+"
      ]
     },
     "execution_count": 42,
     "metadata": {},
     "output_type": "execute_result"
    }
   ],
   "source": [
    "spark.sql(\"show tables\")"
   ]
  },
  {
   "cell_type": "markdown",
   "id": "421759ce",
   "metadata": {},
   "source": [
    "# yoy birth"
   ]
  },
  {
   "cell_type": "code",
   "execution_count": 59,
   "id": "56246889",
   "metadata": {},
   "outputs": [],
   "source": [
    "yoy_birth=spark.sql(\"\"\"Select year, total_birth,lead(total_birth,1) over(order By year) as yoy_birth\n",
    "from (Select year,sum(births) as total_birth from us_birth_details group by year order by year)\"\"\")"
   ]
  },
  {
   "cell_type": "markdown",
   "id": "78d2682d",
   "metadata": {},
   "source": [
    "# difference between total birth and yoy birth"
   ]
  },
  {
   "cell_type": "code",
   "execution_count": 60,
   "id": "a9638a62",
   "metadata": {},
   "outputs": [
    {
     "name": "stdout",
     "output_type": "stream",
     "text": [
      "+----+-----------+---------+----------+\n",
      "|year|total_birth|yoy_birth|difference|\n",
      "+----+-----------+---------+----------+\n",
      "|2000|    4149598|  4110963|     38635|\n",
      "|2001|    4110963|  4099313|     11650|\n",
      "|2002|    4099313|  4163060|    -63747|\n",
      "|2003|    4163060|  4186863|    -23803|\n",
      "|2004|    4186863|  4211941|    -25078|\n",
      "|2005|    4211941|  4335154|   -123213|\n",
      "|2006|    4335154|  4380784|    -45630|\n",
      "|2007|    4380784|  4310737|     70047|\n",
      "|2008|    4310737|  4190991|    119746|\n",
      "|2009|    4190991|  4055975|    135016|\n",
      "|2010|    4055975|  4006908|     49067|\n",
      "|2011|    4006908|  4000868|      6040|\n",
      "|2012|    4000868|  3973337|     27531|\n",
      "|2013|    3973337|  4010532|    -37195|\n",
      "|2014|    4010532|     null|      null|\n",
      "+----+-----------+---------+----------+\n",
      "\n"
     ]
    }
   ],
   "source": [
    "yoy_birth.withColumn(\"difference\",col(\"total_birth\")-col(\"yoy_birth\")).show() "
   ]
  },
  {
   "cell_type": "code",
   "execution_count": 58,
   "id": "1b527aed",
   "metadata": {},
   "outputs": [
    {
     "data": {
      "text/html": [
       "<table border='1'>\n",
       "<tr><th>year</th><th>total_birth</th></tr>\n",
       "<tr><td>2000</td><td>4149598</td></tr>\n",
       "<tr><td>2001</td><td>4110963</td></tr>\n",
       "<tr><td>2002</td><td>4099313</td></tr>\n",
       "<tr><td>2003</td><td>4163060</td></tr>\n",
       "<tr><td>2004</td><td>4186863</td></tr>\n",
       "<tr><td>2005</td><td>4211941</td></tr>\n",
       "<tr><td>2006</td><td>4335154</td></tr>\n",
       "<tr><td>2007</td><td>4380784</td></tr>\n",
       "<tr><td>2008</td><td>4310737</td></tr>\n",
       "<tr><td>2009</td><td>4190991</td></tr>\n",
       "<tr><td>2010</td><td>4055975</td></tr>\n",
       "<tr><td>2011</td><td>4006908</td></tr>\n",
       "<tr><td>2012</td><td>4000868</td></tr>\n",
       "<tr><td>2013</td><td>3973337</td></tr>\n",
       "<tr><td>2014</td><td>4010532</td></tr>\n",
       "</table>\n"
      ],
      "text/plain": [
       "+----+-----------+\n",
       "|year|total_birth|\n",
       "+----+-----------+\n",
       "|2000|    4149598|\n",
       "|2001|    4110963|\n",
       "|2002|    4099313|\n",
       "|2003|    4163060|\n",
       "|2004|    4186863|\n",
       "|2005|    4211941|\n",
       "|2006|    4335154|\n",
       "|2007|    4380784|\n",
       "|2008|    4310737|\n",
       "|2009|    4190991|\n",
       "|2010|    4055975|\n",
       "|2011|    4006908|\n",
       "|2012|    4000868|\n",
       "|2013|    3973337|\n",
       "|2014|    4010532|\n",
       "+----+-----------+"
      ]
     },
     "execution_count": 58,
     "metadata": {},
     "output_type": "execute_result"
    }
   ],
   "source": [
    "spark.sql(\"Select year,sum(births) as total_birth from us_birth_details group by year order by year\")"
   ]
  },
  {
   "cell_type": "markdown",
   "id": "b995fe4f",
   "metadata": {},
   "source": [
    "# mom birth rate"
   ]
  },
  {
   "cell_type": "code",
   "execution_count": 43,
   "id": "bfb714b0",
   "metadata": {},
   "outputs": [
    {
     "name": "stdout",
     "output_type": "stream",
     "text": [
      "+-----+-----------+---------+\n",
      "|month|total_birth|mom_birth|\n",
      "+-----+-----------+---------+\n",
      "|    1|     342379|   360521|\n",
      "|    1|     360521|   361868|\n",
      "|    1|     361868|   342975|\n",
      "|    1|     342975|   336163|\n",
      "|    1|     336163|   329962|\n",
      "|    1|     329962|   337478|\n",
      "|    1|     337478|   320661|\n",
      "|    1|     320661|   337739|\n",
      "|    1|     337739|   345976|\n",
      "|    1|     345976|   337472|\n",
      "|    1|     337472|   339077|\n",
      "|    1|     339077|   327352|\n",
      "|    1|     327352|   324845|\n",
      "|    1|     324845|   328120|\n",
      "|    1|     328120|   312789|\n",
      "|    2|     312789|   294882|\n",
      "|    2|     294882|   301927|\n",
      "|    2|     301927|   309819|\n",
      "|    2|     309819|   321348|\n",
      "|    2|     321348|   300899|\n",
      "+-----+-----------+---------+\n",
      "only showing top 20 rows\n",
      "\n"
     ]
    }
   ],
   "source": [
    "spark.sql(\"\"\"Select month,total_birth,lead(total_birth,1) over(order By month) as mom_birth\n",
    "from (Select month,sum(births) as total_birth from us_birth_details group by year,month)\"\"\").show()"
   ]
  },
  {
   "cell_type": "code",
   "execution_count": null,
   "id": "d4e4e04f",
   "metadata": {},
   "outputs": [],
   "source": []
  }
 ],
 "metadata": {
  "kernelspec": {
   "display_name": "Pyspark 3",
   "language": "python",
   "name": "pyspark3"
  },
  "language_info": {
   "codemirror_mode": {
    "name": "ipython",
    "version": 3
   },
   "file_extension": ".py",
   "mimetype": "text/x-python",
   "name": "python",
   "nbconvert_exporter": "python",
   "pygments_lexer": "ipython3",
   "version": "3.6.12"
  }
 },
 "nbformat": 4,
 "nbformat_minor": 5
}
